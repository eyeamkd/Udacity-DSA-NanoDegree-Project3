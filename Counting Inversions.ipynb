{
 "cells": [
  {
   "cell_type": "markdown",
   "metadata": {
    "graffitiCellId": "id_ner1upo"
   },
   "source": [
    "# Counting Inversions\n",
    "\n",
    "The number of *inversions* in a disordered list is the number of pairs of elements that are inverted (out of order) in the list.  \n",
    "\n",
    "Here are some examples: \n",
    "  - [0,1] has 0 inversions\n",
    "  - [2,1] has 1 inversion (2,1)\n",
    "  - [3, 1, 2, 4] has 2 inversions (3, 2), (3, 1)\n",
    "  - [7, 5, 3, 1] has 6 inversions (7, 5), (3, 1), (5, 1), (7, 1), (5, 3), (7, 3)\n",
    "  \n",
    "The number of inversions can also be thought of in the following manner. \n",
    "\n",
    ">Given an array `arr[0 ... n-1]` of `n` distinct positive integers, for indices `i and j`, if `i < j` and `arr[i] > arr[j]` then the pair `(i, j)` is called an inversion of `arr`.\n",
    "\n",
    "## Problem statement\n",
    "\n",
    "Write a function, `count_inversions`, that takes an array (or Python list) as input, and returns a count of the total number of inversions present in the input.\n",
    "\n",
    "Mergesort provides an efficient way to solve this problem."
   ]
  },
  {
   "cell_type": "code",
   "execution_count": 7,
   "metadata": {
    "graffitiCellId": "id_jf6a5ys"
   },
   "outputs": [],
   "source": [
    "def merge_sort_divide(arr: list, pairs) -> list:\n",
    "    # divide routine  \n",
    "    length = len(arr)\n",
    "    if length == 1:\n",
    "        return arr,pairs\n",
    "    half_index = length // 2\n",
    "    sorted_left_half, left_half_pairs = merge_sort_divide(arr[:half_index], pairs) \n",
    "   \n",
    "    sorted_right_half, right_half_pairs = merge_sort_divide(arr[half_index:], pairs) \n",
    "    \n",
    "\n",
    "    # merge divided half routine    \n",
    "    #pairs = left_half_pairs+right_half_pairs \n",
    "    \n",
    "    #print(\"Left and right half pairs are\", left_half_pairs, right_half_pairs)\n",
    "    \n",
    "    merged_array, merged_pairs   = index_merge(sorted_left_half, sorted_right_half,0,0,left_half_pairs+right_half_pairs)   \n",
    "    #print(\"Merged pairs are \", merged_pairs) \n",
    "    \n",
    "    pairs += merged_pairs\n",
    "    \n",
    "    return merged_array, pairs\n",
    "\n",
    "\n",
    "def copy_arr(source: list, destination: list) -> list:\n",
    "    for element in source:\n",
    "        destination.append(element)\n",
    "    return destination\n",
    "\n",
    "\n",
    "def merge(arr1: list, arr2: list) -> list:\n",
    "    merged_array = []\n",
    "    while len(arr1) != 0 or len(arr2) != 0:\n",
    "        if len(arr1) == 0:\n",
    "            merged_array = copy_arr(arr2, merged_array)\n",
    "            return merged_array\n",
    "        elif len(arr2) == 0:\n",
    "            merged_array = copy_arr(arr1, merged_array)\n",
    "            return merged_array\n",
    "        elif arr1[0] < arr2[0]: \n",
    "            #print(\"Count here\")\n",
    "            merged_array.append(arr1[0])\n",
    "            arr1.remove(arr1[0])\n",
    "        else: \n",
    "            #print(\"Count here\")\n",
    "            merged_array.append(arr2[0])\n",
    "            arr2.remove(arr2[0]) \n",
    "\n",
    "def index_merge(arr1:list, arr2:list, arr1_index:int, arr2_index:int, pairs=0)-> list:\n",
    "    #print(\"Array 1 \", arr1)\n",
    "    #print(\"Array 2 \", arr2)\n",
    "    merged_array = [] \n",
    "    arr1_length = len(arr1)\n",
    "    arr2_length = len(arr2)  \n",
    "    arr1_index_limit = arr1_length - 1\n",
    "    arr2_index_limit = arr2_length - 1\n",
    "    while arr1_index <= arr1_index_limit and arr2_index <= arr2_index_limit: \n",
    "        #print(\"Array and index are\", arr2)\n",
    "        if(arr1[arr1_index]>arr2[arr2_index]): \n",
    "            #print(\"Greater values are \", arr1, arr2, arr1[arr1_index], arr2[arr2_index])\n",
    "            pairs+= len(arr1)-arr1_index  \n",
    "            #print(\"Pairs is \", pairs)\n",
    "            merged_array.append(arr2[arr2_index]) \n",
    "            arr2_index+=1  \n",
    "            #print(\"Merged array is \", merged_array)\n",
    "        elif(arr1[arr1_index]<=arr2[arr2_index]):\n",
    "            merged_array.append(arr1[arr1_index])\n",
    "            arr1_index+=1   \n",
    "            #print(\"Merged array is \", merged_array)\n",
    "            \n",
    "        # elif(arr1[arr1_index] == arr2[arr2_index]):\n",
    "        #     merged_array.append(arr1[arr1_index])\n",
    "        #     merged_array.append(arr2[arr2_index])\n",
    "        #     arr1_index+=1\n",
    "        #     arr2_index+=1 \n",
    "        #     print(\"Merged array is \", merged_array)\n",
    "            \n",
    "    if(arr1_index-1 == arr1_index_limit):\n",
    "        while arr2_index <= arr2_index_limit:\n",
    "            merged_array.append(arr2[arr2_index])\n",
    "            arr2_index+=1 \n",
    "        #print(\"Merged array is \", merged_array)\n",
    "        \n",
    "    elif(arr2_index-1 == arr2_index_limit ):\n",
    "        while arr1_index <= arr1_index_limit:\n",
    "            merged_array.append(arr1[arr1_index])\n",
    "            arr1_index+=1 \n",
    "        #print(\"Merged array is \", merged_array)\n",
    "         \n",
    "    #print(\"Merged array is \", merged_array)\n",
    "             \n",
    "    return  merged_array,pairs  \n",
    "    \n",
    "         \n",
    "            \n",
    "        \n",
    "    \n",
    "\n",
    "\n",
    "# # test case for the merge\n",
    "# result, pairs  = merge_sort_divide([54, 99, 49, 22, 37, 18, 22, 90, 86, 33],0)\n",
    "# print(\"Pairs are \", pairs)\n",
    "\n",
    "        \n",
    "    \n",
    "\n",
    "def count_inversions(arr:list)->int:\n",
    "    result, pairs = merge_sort_divide(arr,0)\n",
    "    return pairs\n"
   ]
  },
  {
   "cell_type": "markdown",
   "metadata": {
    "graffitiCellId": "id_8809fp2"
   },
   "source": [
    "<span class=\"graffiti-highlight graffiti-id_8809fp2-id_8br31oi\"><i></i><button>Show Solution</button></span>"
   ]
  },
  {
   "cell_type": "code",
   "execution_count": 8,
   "metadata": {
    "graffitiCellId": "id_l6xh0rg"
   },
   "outputs": [],
   "source": [
    "def test_function(test_case):\n",
    "    arr = test_case[0]\n",
    "    solution = test_case[1]\n",
    "    if count_inversions(arr) == solution:\n",
    "        print(\"Pass\")\n",
    "    else:\n",
    "        print(\"Fail\")\n"
   ]
  },
  {
   "cell_type": "code",
   "execution_count": 9,
   "metadata": {
    "graffitiCellId": "id_4aqr272"
   },
   "outputs": [
    {
     "name": "stdout",
     "output_type": "stream",
     "text": [
      "Pass\n"
     ]
    }
   ],
   "source": [
    "arr = [2, 5, 1, 3, 4]\n",
    "solution = 4\n",
    "test_case = [arr, solution]\n",
    "test_function(test_case)"
   ]
  },
  {
   "cell_type": "code",
   "execution_count": 10,
   "metadata": {
    "graffitiCellId": "id_0sqy9z2"
   },
   "outputs": [
    {
     "name": "stdout",
     "output_type": "stream",
     "text": [
      "Pass\n"
     ]
    }
   ],
   "source": [
    "arr = [54, 99, 49, 22, 37, 18, 22, 90, 86, 33]\n",
    "solution = 26\n",
    "test_case = [arr, solution]\n",
    "test_function(test_case)"
   ]
  },
  {
   "cell_type": "code",
   "execution_count": 11,
   "metadata": {
    "graffitiCellId": "id_s5l67ma"
   },
   "outputs": [
    {
     "name": "stdout",
     "output_type": "stream",
     "text": [
      "Pass\n"
     ]
    }
   ],
   "source": [
    "arr = [1, 2, 4, 2, 3, 11, 22, 99, 108, 389]\n",
    "solution = 2\n",
    "test_case = [arr, solution]\n",
    "test_function(test_case)"
   ]
  },
  {
   "cell_type": "code",
   "execution_count": null,
   "metadata": {
    "graffitiCellId": "id_zxam6fg"
   },
   "outputs": [],
   "source": []
  }
 ],
 "metadata": {
  "graffiti": {
   "firstAuthorId": "dev",
   "id": "id_2rhwg9e",
   "language": "EN"
  },
  "kernelspec": {
   "display_name": "Python 3",
   "language": "python",
   "name": "python3"
  },
  "language_info": {
   "codemirror_mode": {
    "name": "ipython",
    "version": 3
   },
   "file_extension": ".py",
   "mimetype": "text/x-python",
   "name": "python",
   "nbconvert_exporter": "python",
   "pygments_lexer": "ipython3",
   "version": "3.6.3"
  }
 },
 "nbformat": 4,
 "nbformat_minor": 2
}
